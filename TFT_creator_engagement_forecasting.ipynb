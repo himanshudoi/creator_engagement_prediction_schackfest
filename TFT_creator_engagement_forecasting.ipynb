{
 "cells": [
  {
   "cell_type": "code",
   "execution_count": 1,
   "id": "fe43dd9e-3ce4-42c6-8317-6af3d61c9ee6",
   "metadata": {},
   "outputs": [
    {
     "name": "stdout",
     "output_type": "stream",
     "text": [
      "Fri Nov 18 00:54:40 2022       \n",
      "+-----------------------------------------------------------------------------+\n",
      "| NVIDIA-SMI 510.47.03    Driver Version: 510.47.03    CUDA Version: 11.6     |\n",
      "|-------------------------------+----------------------+----------------------+\n",
      "| GPU  Name        Persistence-M| Bus-Id        Disp.A | Volatile Uncorr. ECC |\n",
      "| Fan  Temp  Perf  Pwr:Usage/Cap|         Memory-Usage | GPU-Util  Compute M. |\n",
      "|                               |                      |               MIG M. |\n",
      "|===============================+======================+======================|\n",
      "|   0  Tesla T4            Off  | 00000000:00:04.0 Off |                    0 |\n",
      "| N/A   66C    P0    32W /  70W |      0MiB / 15360MiB |     11%      Default |\n",
      "|                               |                      |                  N/A |\n",
      "+-------------------------------+----------------------+----------------------+\n",
      "                                                                               \n",
      "+-----------------------------------------------------------------------------+\n",
      "| Processes:                                                                  |\n",
      "|  GPU   GI   CI        PID   Type   Process name                  GPU Memory |\n",
      "|        ID   ID                                                   Usage      |\n",
      "|=============================================================================|\n",
      "|  No running processes found                                                 |\n",
      "+-----------------------------------------------------------------------------+\n"
     ]
    }
   ],
   "source": [
    "!nvidia-smi"
   ]
  },
  {
   "cell_type": "code",
   "execution_count": 25,
   "id": "5242dcf5-8d69-4eaf-a0b1-34071449afa0",
   "metadata": {},
   "outputs": [],
   "source": [
    "import warnings\n",
    "import pickle\n",
    "\n",
    "from datetime import datetime\n",
    "import numpy as np\n",
    "import pandas as pd\n",
    "import matplotlib.pyplot as plt\n",
    "import pytorch_lightning as pl\n",
    "from pytorch_lightning.callbacks import EarlyStopping, LearningRateMonitor\n",
    "from pytorch_lightning.loggers import TensorBoardLogger\n",
    "import torch\n",
    "\n",
    "from pytorch_forecasting import Baseline, TemporalFusionTransformer, TimeSeriesDataSet\n",
    "from pytorch_forecasting.data import GroupNormalizer\n",
    "from pytorch_forecasting.metrics import SMAPE, PoissonLoss, QuantileLoss\n",
    "from pytorch_forecasting.models.temporal_fusion_transformer.tuning import optimize_hyperparameters\n",
    "\n",
    "import seaborn as sns\n",
    "import matplotlib.pyplot as plt\n",
    "\n",
    "import tensorflow as tf \n",
    "import tensorboard as tb \n",
    "tf.io.gfile = tb.compat.tensorflow_stub.io.gfile"
   ]
  },
  {
   "cell_type": "markdown",
   "id": "a1865251-d49f-478e-b51e-ca1f0c9728ff",
   "metadata": {},
   "source": [
    "#### Read Dataset"
   ]
  },
  {
   "cell_type": "code",
   "execution_count": 9,
   "id": "96c8e47e-256b-491f-a411-df23d3ad6daa",
   "metadata": {},
   "outputs": [
    {
     "name": "stderr",
     "output_type": "stream",
     "text": [
      "Query complete after 0.00s: 100%|██████████| 6/6 [00:00<00:00, 3268.29query/s]                        \n",
      "Downloading: 100%|██████████| 5814207/5814207 [00:04<00:00, 1220143.55rows/s]\n"
     ]
    }
   ],
   "source": [
    "# %%bigquery raw_data\n",
    "# select * from `maximal-furnace-783.growth_temp.raw_data_hd_v6`\n",
    "# order by userId, post_index"
   ]
  },
  {
   "cell_type": "code",
   "execution_count": 13,
   "id": "1955a060-5c09-4aec-bef2-02fd7e076077",
   "metadata": {},
   "outputs": [
    {
     "data": {
      "text/html": [
       "<div>\n",
       "<style scoped>\n",
       "    .dataframe tbody tr th:only-of-type {\n",
       "        vertical-align: middle;\n",
       "    }\n",
       "\n",
       "    .dataframe tbody tr th {\n",
       "        vertical-align: top;\n",
       "    }\n",
       "\n",
       "    .dataframe thead th {\n",
       "        text-align: right;\n",
       "    }\n",
       "</style>\n",
       "<table border=\"1\" class=\"dataframe\">\n",
       "  <thead>\n",
       "    <tr style=\"text-align: right;\">\n",
       "      <th></th>\n",
       "      <th>postCreatedOn</th>\n",
       "      <th>userId</th>\n",
       "      <th>postId</th>\n",
       "      <th>language</th>\n",
       "      <th>tagId</th>\n",
       "      <th>type</th>\n",
       "      <th>tag_genre</th>\n",
       "      <th>posted_after_days</th>\n",
       "      <th>posts_till_date</th>\n",
       "      <th>post_index</th>\n",
       "    </tr>\n",
       "  </thead>\n",
       "  <tbody>\n",
       "    <tr>\n",
       "      <th>0</th>\n",
       "      <td>2020-01-27</td>\n",
       "      <td>98625</td>\n",
       "      <td>669430483</td>\n",
       "      <td>Telugu</td>\n",
       "      <td>S682642</td>\n",
       "      <td>1</td>\n",
       "      <td>Health and Fitness</td>\n",
       "      <td>1527</td>\n",
       "      <td>1</td>\n",
       "      <td>1</td>\n",
       "    </tr>\n",
       "    <tr>\n",
       "      <th>1</th>\n",
       "      <td>2021-06-29</td>\n",
       "      <td>98625</td>\n",
       "      <td>9574195053</td>\n",
       "      <td>Telugu</td>\n",
       "      <td>S110967</td>\n",
       "      <td>1</td>\n",
       "      <td>Status and Stories</td>\n",
       "      <td>2046</td>\n",
       "      <td>3</td>\n",
       "      <td>2</td>\n",
       "    </tr>\n",
       "    <tr>\n",
       "      <th>2</th>\n",
       "      <td>2021-06-29</td>\n",
       "      <td>98625</td>\n",
       "      <td>9182575053</td>\n",
       "      <td>Telugu</td>\n",
       "      <td>S128522</td>\n",
       "      <td>1</td>\n",
       "      <td>Status and Stories</td>\n",
       "      <td>2046</td>\n",
       "      <td>3</td>\n",
       "      <td>3</td>\n",
       "    </tr>\n",
       "    <tr>\n",
       "      <th>3</th>\n",
       "      <td>2021-06-30</td>\n",
       "      <td>98625</td>\n",
       "      <td>9136701153</td>\n",
       "      <td>Telugu</td>\n",
       "      <td>S110967</td>\n",
       "      <td>0</td>\n",
       "      <td>Status and Stories</td>\n",
       "      <td>2047</td>\n",
       "      <td>5</td>\n",
       "      <td>4</td>\n",
       "    </tr>\n",
       "    <tr>\n",
       "      <th>4</th>\n",
       "      <td>2021-06-30</td>\n",
       "      <td>98625</td>\n",
       "      <td>5538487053</td>\n",
       "      <td>Telugu</td>\n",
       "      <td>S110967</td>\n",
       "      <td>0</td>\n",
       "      <td>Status and Stories</td>\n",
       "      <td>2047</td>\n",
       "      <td>5</td>\n",
       "      <td>5</td>\n",
       "    </tr>\n",
       "  </tbody>\n",
       "</table>\n",
       "</div>"
      ],
      "text/plain": [
       "  postCreatedOn  userId      postId language    tagId  type  \\\n",
       "0    2020-01-27   98625   669430483   Telugu  S682642     1   \n",
       "1    2021-06-29   98625  9574195053   Telugu  S110967     1   \n",
       "2    2021-06-29   98625  9182575053   Telugu  S128522     1   \n",
       "3    2021-06-30   98625  9136701153   Telugu  S110967     0   \n",
       "4    2021-06-30   98625  5538487053   Telugu  S110967     0   \n",
       "\n",
       "            tag_genre  posted_after_days  posts_till_date  post_index  \n",
       "0  Health and Fitness               1527                1           1  \n",
       "1  Status and Stories               2046                3           2  \n",
       "2  Status and Stories               2046                3           3  \n",
       "3  Status and Stories               2047                5           4  \n",
       "4  Status and Stories               2047                5           5  "
      ]
     },
     "execution_count": 13,
     "metadata": {},
     "output_type": "execute_result"
    }
   ],
   "source": [
    "# raw_data.head()"
   ]
  },
  {
   "cell_type": "code",
   "execution_count": 3,
   "id": "56cf66d0-c994-4559-9eb8-f75c3a03ed3d",
   "metadata": {},
   "outputs": [],
   "source": [
    "raw_data = pd.read_csv(\"./src/creator_eng_pred_raw_data_v3.csv\")"
   ]
  },
  {
   "cell_type": "code",
   "execution_count": 4,
   "id": "cd2c76a9-088c-45c4-b6ba-8cfaa9fde65e",
   "metadata": {},
   "outputs": [],
   "source": [
    "# raw_data[\"tag_genre\"].fillna(\"others\", inplace=True)"
   ]
  },
  {
   "cell_type": "code",
   "execution_count": 5,
   "id": "c6d14d99-e77e-4bcb-837a-6dbb6c5a4599",
   "metadata": {},
   "outputs": [
    {
     "data": {
      "text/plain": [
       "(671400, 16)"
      ]
     },
     "execution_count": 5,
     "metadata": {},
     "output_type": "execute_result"
    }
   ],
   "source": [
    "raw_data.shape"
   ]
  },
  {
   "cell_type": "code",
   "execution_count": 6,
   "id": "c9a4538b-eaff-4752-934a-d81e1e389e78",
   "metadata": {},
   "outputs": [
    {
     "data": {
      "text/plain": [
       "postCreatedOn        0\n",
       "userId               0\n",
       "postId               0\n",
       "language             0\n",
       "tagId                0\n",
       "type                 0\n",
       "tag_genre            0\n",
       "posted_after_days    0\n",
       "posts_till_date      0\n",
       "post_index           0\n",
       "total_views          0\n",
       "vplay                0\n",
       "svp                  0\n",
       "engs                 0\n",
       "day_of_month         0\n",
       "day_of_week          0\n",
       "dtype: int64"
      ]
     },
     "execution_count": 6,
     "metadata": {},
     "output_type": "execute_result"
    }
   ],
   "source": [
    "raw_data.isnull().sum()"
   ]
  },
  {
   "cell_type": "code",
   "execution_count": 7,
   "id": "0c0d97e0-79ff-4b55-a90e-36afb6bfda03",
   "metadata": {},
   "outputs": [],
   "source": [
    "# target_cols = ['total_views', 'vplay', 'svp', 'engs']\n",
    "drop_cols = ['postCreatedOn', 'total_views', 'vplay', 'svp']"
   ]
  },
  {
   "cell_type": "code",
   "execution_count": 8,
   "id": "62a21e54-b5fe-4955-956c-6e1af595c227",
   "metadata": {},
   "outputs": [],
   "source": [
    "# targets = raw_data[target_cols]"
   ]
  },
  {
   "cell_type": "code",
   "execution_count": 9,
   "id": "c852d4ff-f63e-401e-8e9b-250320f48946",
   "metadata": {},
   "outputs": [],
   "source": [
    "raw_data_1 = raw_data.drop(drop_cols, axis=1)"
   ]
  },
  {
   "cell_type": "code",
   "execution_count": 10,
   "id": "72670ba6-8bc5-415c-a7d8-2481f6961886",
   "metadata": {},
   "outputs": [
    {
     "data": {
      "text/html": [
       "<div>\n",
       "<style scoped>\n",
       "    .dataframe tbody tr th:only-of-type {\n",
       "        vertical-align: middle;\n",
       "    }\n",
       "\n",
       "    .dataframe tbody tr th {\n",
       "        vertical-align: top;\n",
       "    }\n",
       "\n",
       "    .dataframe thead th {\n",
       "        text-align: right;\n",
       "    }\n",
       "</style>\n",
       "<table border=\"1\" class=\"dataframe\">\n",
       "  <thead>\n",
       "    <tr style=\"text-align: right;\">\n",
       "      <th></th>\n",
       "      <th>userId</th>\n",
       "      <th>postId</th>\n",
       "      <th>language</th>\n",
       "      <th>tagId</th>\n",
       "      <th>type</th>\n",
       "      <th>tag_genre</th>\n",
       "      <th>posted_after_days</th>\n",
       "      <th>posts_till_date</th>\n",
       "      <th>post_index</th>\n",
       "      <th>engs</th>\n",
       "      <th>day_of_month</th>\n",
       "      <th>day_of_week</th>\n",
       "    </tr>\n",
       "  </thead>\n",
       "  <tbody>\n",
       "    <tr>\n",
       "      <th>10000</th>\n",
       "      <td>4706761</td>\n",
       "      <td>9553113584</td>\n",
       "      <td>Malayalam</td>\n",
       "      <td>S9867526</td>\n",
       "      <td>0</td>\n",
       "      <td>Wishes</td>\n",
       "      <td>2039</td>\n",
       "      <td>3699</td>\n",
       "      <td>401</td>\n",
       "      <td>3</td>\n",
       "      <td>3</td>\n",
       "      <td>2</td>\n",
       "    </tr>\n",
       "    <tr>\n",
       "      <th>10001</th>\n",
       "      <td>4706761</td>\n",
       "      <td>3416113584</td>\n",
       "      <td>Malayalam</td>\n",
       "      <td>S9867526</td>\n",
       "      <td>0</td>\n",
       "      <td>Wishes</td>\n",
       "      <td>2039</td>\n",
       "      <td>3699</td>\n",
       "      <td>402</td>\n",
       "      <td>3</td>\n",
       "      <td>3</td>\n",
       "      <td>2</td>\n",
       "    </tr>\n",
       "    <tr>\n",
       "      <th>10002</th>\n",
       "      <td>4706761</td>\n",
       "      <td>9933865584</td>\n",
       "      <td>Malayalam</td>\n",
       "      <td>S112918</td>\n",
       "      <td>0</td>\n",
       "      <td>Wishes</td>\n",
       "      <td>2039</td>\n",
       "      <td>3699</td>\n",
       "      <td>403</td>\n",
       "      <td>3</td>\n",
       "      <td>3</td>\n",
       "      <td>2</td>\n",
       "    </tr>\n",
       "    <tr>\n",
       "      <th>10003</th>\n",
       "      <td>4706761</td>\n",
       "      <td>1573865584</td>\n",
       "      <td>Malayalam</td>\n",
       "      <td>S112918</td>\n",
       "      <td>0</td>\n",
       "      <td>Wishes</td>\n",
       "      <td>2039</td>\n",
       "      <td>3699</td>\n",
       "      <td>404</td>\n",
       "      <td>3</td>\n",
       "      <td>3</td>\n",
       "      <td>2</td>\n",
       "    </tr>\n",
       "    <tr>\n",
       "      <th>10004</th>\n",
       "      <td>4706761</td>\n",
       "      <td>5604865584</td>\n",
       "      <td>Malayalam</td>\n",
       "      <td>S112918</td>\n",
       "      <td>0</td>\n",
       "      <td>Wishes</td>\n",
       "      <td>2039</td>\n",
       "      <td>3699</td>\n",
       "      <td>405</td>\n",
       "      <td>0</td>\n",
       "      <td>3</td>\n",
       "      <td>2</td>\n",
       "    </tr>\n",
       "    <tr>\n",
       "      <th>...</th>\n",
       "      <td>...</td>\n",
       "      <td>...</td>\n",
       "      <td>...</td>\n",
       "      <td>...</td>\n",
       "      <td>...</td>\n",
       "      <td>...</td>\n",
       "      <td>...</td>\n",
       "      <td>...</td>\n",
       "      <td>...</td>\n",
       "      <td>...</td>\n",
       "      <td>...</td>\n",
       "      <td>...</td>\n",
       "    </tr>\n",
       "    <tr>\n",
       "      <th>671395</th>\n",
       "      <td>2753816537</td>\n",
       "      <td>9805806294</td>\n",
       "      <td>Hindi</td>\n",
       "      <td>S14689935</td>\n",
       "      <td>0</td>\n",
       "      <td>Sports</td>\n",
       "      <td>503</td>\n",
       "      <td>5231</td>\n",
       "      <td>596</td>\n",
       "      <td>0</td>\n",
       "      <td>29</td>\n",
       "      <td>0</td>\n",
       "    </tr>\n",
       "    <tr>\n",
       "      <th>671396</th>\n",
       "      <td>2753816537</td>\n",
       "      <td>7595806294</td>\n",
       "      <td>Hindi</td>\n",
       "      <td>S14689935</td>\n",
       "      <td>0</td>\n",
       "      <td>Sports</td>\n",
       "      <td>503</td>\n",
       "      <td>5231</td>\n",
       "      <td>597</td>\n",
       "      <td>0</td>\n",
       "      <td>29</td>\n",
       "      <td>0</td>\n",
       "    </tr>\n",
       "    <tr>\n",
       "      <th>671397</th>\n",
       "      <td>2753816537</td>\n",
       "      <td>5236806294</td>\n",
       "      <td>Hindi</td>\n",
       "      <td>S14689935</td>\n",
       "      <td>0</td>\n",
       "      <td>Sports</td>\n",
       "      <td>503</td>\n",
       "      <td>5231</td>\n",
       "      <td>598</td>\n",
       "      <td>8</td>\n",
       "      <td>29</td>\n",
       "      <td>0</td>\n",
       "    </tr>\n",
       "    <tr>\n",
       "      <th>671398</th>\n",
       "      <td>2753816537</td>\n",
       "      <td>5710906294</td>\n",
       "      <td>Hindi</td>\n",
       "      <td>S14689935</td>\n",
       "      <td>1</td>\n",
       "      <td>Sports</td>\n",
       "      <td>503</td>\n",
       "      <td>5231</td>\n",
       "      <td>599</td>\n",
       "      <td>34</td>\n",
       "      <td>29</td>\n",
       "      <td>0</td>\n",
       "    </tr>\n",
       "    <tr>\n",
       "      <th>671399</th>\n",
       "      <td>2753816537</td>\n",
       "      <td>9592116294</td>\n",
       "      <td>Hindi</td>\n",
       "      <td>S14689935</td>\n",
       "      <td>0</td>\n",
       "      <td>Sports</td>\n",
       "      <td>503</td>\n",
       "      <td>5231</td>\n",
       "      <td>600</td>\n",
       "      <td>1</td>\n",
       "      <td>29</td>\n",
       "      <td>0</td>\n",
       "    </tr>\n",
       "  </tbody>\n",
       "</table>\n",
       "<p>661400 rows × 12 columns</p>\n",
       "</div>"
      ],
      "text/plain": [
       "            userId      postId   language      tagId  type tag_genre  \\\n",
       "10000      4706761  9553113584  Malayalam   S9867526     0    Wishes   \n",
       "10001      4706761  3416113584  Malayalam   S9867526     0    Wishes   \n",
       "10002      4706761  9933865584  Malayalam    S112918     0    Wishes   \n",
       "10003      4706761  1573865584  Malayalam    S112918     0    Wishes   \n",
       "10004      4706761  5604865584  Malayalam    S112918     0    Wishes   \n",
       "...            ...         ...        ...        ...   ...       ...   \n",
       "671395  2753816537  9805806294      Hindi  S14689935     0    Sports   \n",
       "671396  2753816537  7595806294      Hindi  S14689935     0    Sports   \n",
       "671397  2753816537  5236806294      Hindi  S14689935     0    Sports   \n",
       "671398  2753816537  5710906294      Hindi  S14689935     1    Sports   \n",
       "671399  2753816537  9592116294      Hindi  S14689935     0    Sports   \n",
       "\n",
       "        posted_after_days  posts_till_date  post_index  engs  day_of_month  \\\n",
       "10000                2039             3699         401     3             3   \n",
       "10001                2039             3699         402     3             3   \n",
       "10002                2039             3699         403     3             3   \n",
       "10003                2039             3699         404     3             3   \n",
       "10004                2039             3699         405     0             3   \n",
       "...                   ...              ...         ...   ...           ...   \n",
       "671395                503             5231         596     0            29   \n",
       "671396                503             5231         597     0            29   \n",
       "671397                503             5231         598     8            29   \n",
       "671398                503             5231         599    34            29   \n",
       "671399                503             5231         600     1            29   \n",
       "\n",
       "        day_of_week  \n",
       "10000             2  \n",
       "10001             2  \n",
       "10002             2  \n",
       "10003             2  \n",
       "10004             2  \n",
       "...             ...  \n",
       "671395            0  \n",
       "671396            0  \n",
       "671397            0  \n",
       "671398            0  \n",
       "671399            0  \n",
       "\n",
       "[661400 rows x 12 columns]"
      ]
     },
     "execution_count": 10,
     "metadata": {},
     "output_type": "execute_result"
    }
   ],
   "source": [
    "raw_data_1.iloc[10000:, :]"
   ]
  },
  {
   "cell_type": "code",
   "execution_count": 11,
   "id": "af708831-045b-45ca-9f6a-e89dd27153f3",
   "metadata": {},
   "outputs": [],
   "source": [
    "g = raw_data_1.groupby(\"userId\")\n",
    "size = g.size()"
   ]
  },
  {
   "cell_type": "code",
   "execution_count": 12,
   "id": "fd9e9ef6-b083-4b40-b9f3-c1b6a571a537",
   "metadata": {},
   "outputs": [
    {
     "data": {
      "text/plain": [
       "userId\n",
       "420176        600\n",
       "1128090       600\n",
       "1736412       600\n",
       "1988862       600\n",
       "2095296       600\n",
       "             ... \n",
       "2732187135    600\n",
       "2735691253    600\n",
       "2740719276    600\n",
       "2746716196    600\n",
       "2753816537    600\n",
       "Length: 1119, dtype: int64"
      ]
     },
     "execution_count": 12,
     "metadata": {},
     "output_type": "execute_result"
    }
   ],
   "source": [
    "size"
   ]
  },
  {
   "cell_type": "code",
   "execution_count": null,
   "id": "d836e5a4-1ec1-44b7-9b27-5431541f2d4b",
   "metadata": {},
   "outputs": [],
   "source": []
  },
  {
   "cell_type": "markdown",
   "id": "1e8e03a8-d1bc-4d83-8ca0-c2ea9c642dd4",
   "metadata": {},
   "source": [
    "#### EDA"
   ]
  },
  {
   "cell_type": "code",
   "execution_count": null,
   "id": "6fd91eb8-a14a-434b-b973-312c35bc7ecb",
   "metadata": {},
   "outputs": [],
   "source": []
  },
  {
   "cell_type": "code",
   "execution_count": null,
   "id": "dca89d06-a698-443d-9020-7b485e83c0bc",
   "metadata": {},
   "outputs": [],
   "source": []
  },
  {
   "cell_type": "markdown",
   "id": "3aff9688-95d8-44f7-aab3-be6270c572b6",
   "metadata": {},
   "source": [
    "#### Data Preparation"
   ]
  },
  {
   "cell_type": "code",
   "execution_count": 13,
   "id": "c0ffd419-ba19-4f98-86be-1699ffd1e070",
   "metadata": {},
   "outputs": [],
   "source": [
    "raw_data_1['userId'] = raw_data_1['userId'].astype(str)\n",
    "raw_data_1['postId'] = raw_data_1['postId'].astype(str)\n",
    "raw_data_1['type'] = raw_data_1['type'].astype(str)\n"
   ]
  },
  {
   "cell_type": "code",
   "execution_count": 14,
   "id": "91d91e92-0e9d-49cc-9baf-8408528bafb1",
   "metadata": {},
   "outputs": [],
   "source": [
    "raw_data_1['day_of_month'] = raw_data_1['day_of_month'].astype(str)\n",
    "raw_data_1['day_of_week'] = raw_data_1['day_of_week'].astype(str)\n",
    "raw_data_1['type'] = raw_data_1['type'].astype(str)"
   ]
  },
  {
   "cell_type": "code",
   "execution_count": 15,
   "id": "7d6b0579-0f80-4e38-940e-9cec4bcf2a45",
   "metadata": {},
   "outputs": [],
   "source": [
    "raw_data_1[\"index_from_start\"] = list(raw_data_1.index)"
   ]
  },
  {
   "cell_type": "code",
   "execution_count": 16,
   "id": "0c47e960-b3d2-4fa2-9b3e-04635f310a3d",
   "metadata": {},
   "outputs": [
    {
     "name": "stderr",
     "output_type": "stream",
     "text": [
      "/opt/conda/lib/python3.7/site-packages/pytorch_forecasting/data/encoders.py:724: UserWarning: scale is below 1e-7 - consider not centering the data or using data with higher variance for numerical stability\n",
      "  UserWarning,\n"
     ]
    }
   ],
   "source": [
    "#Hyperparameters\n",
    "#batch size=64\n",
    "#number heads=4, hidden sizes=160, lr=0.001, gr_clip=0.1\n",
    "\n",
    "max_prediction_length = 2\n",
    "max_encoder_length = 50\n",
    "training_cutoff = raw_data_1[\"index_from_start\"].max() - max_prediction_length\n",
    "\n",
    "training = TimeSeriesDataSet(\n",
    "    raw_data_1[lambda x: x.index_from_start <= training_cutoff],\n",
    "    time_idx=\"index_from_start\",\n",
    "    target=\"engs\",\n",
    "    group_ids=[\"userId\"],\n",
    "    min_encoder_length=max_encoder_length // 2, \n",
    "    max_encoder_length=max_encoder_length,\n",
    "    min_prediction_length=1,\n",
    "    max_prediction_length=max_prediction_length,\n",
    "    static_categoricals=[],\n",
    "    time_varying_known_categoricals=[\"day_of_month\", \"day_of_week\", \"language\", \"tagId\", \"tag_genre\"],\n",
    "    # time_varying_unknown_categoricals=[\"type\"],\n",
    "    time_varying_known_reals=[\"posted_after_days\", \"posts_till_date\", \"post_index\"],\n",
    "    time_varying_unknown_reals=['engs'],\n",
    "    target_normalizer=GroupNormalizer(\n",
    "        groups=[\"userId\"], transformation=\"softplus\"\n",
    "    ),  # we normalize by group\n",
    "    add_relative_time_idx=True,\n",
    "    add_target_scales=True,\n",
    "    add_encoder_length=True\n",
    ")\n",
    "\n",
    "\n",
    "validation = TimeSeriesDataSet.from_dataset(training, raw_data_1, predict=True, stop_randomization=True)\n",
    "\n",
    "# create dataloaders for  our model\n",
    "batch_size = 64 \n",
    "# if you have a strong GPU, feel free to increase the number of workers  \n",
    "train_dataloader = training.to_dataloader(train=True, batch_size=batch_size, num_workers=0)\n",
    "val_dataloader = validation.to_dataloader(train=False, batch_size=batch_size * 10, num_workers=0)"
   ]
  },
  {
   "cell_type": "code",
   "execution_count": 118,
   "id": "aa337c9e-548c-44b2-af94-b6fff660a314",
   "metadata": {},
   "outputs": [
    {
     "data": {
      "text/html": [
       "<div>\n",
       "<style scoped>\n",
       "    .dataframe tbody tr th:only-of-type {\n",
       "        vertical-align: middle;\n",
       "    }\n",
       "\n",
       "    .dataframe tbody tr th {\n",
       "        vertical-align: top;\n",
       "    }\n",
       "\n",
       "    .dataframe thead th {\n",
       "        text-align: right;\n",
       "    }\n",
       "</style>\n",
       "<table border=\"1\" class=\"dataframe\">\n",
       "  <thead>\n",
       "    <tr style=\"text-align: right;\">\n",
       "      <th></th>\n",
       "      <th>userId</th>\n",
       "      <th>postId</th>\n",
       "      <th>language</th>\n",
       "      <th>tagId</th>\n",
       "      <th>type</th>\n",
       "      <th>tag_genre</th>\n",
       "      <th>posted_after_days</th>\n",
       "      <th>posts_till_date</th>\n",
       "      <th>post_index</th>\n",
       "      <th>engs</th>\n",
       "      <th>day_of_month</th>\n",
       "      <th>day_of_week</th>\n",
       "      <th>index_from_start</th>\n",
       "    </tr>\n",
       "  </thead>\n",
       "  <tbody>\n",
       "    <tr>\n",
       "      <th>671398</th>\n",
       "      <td>2753816537</td>\n",
       "      <td>5710906294</td>\n",
       "      <td>Hindi</td>\n",
       "      <td>S14689935</td>\n",
       "      <td>1</td>\n",
       "      <td>Sports</td>\n",
       "      <td>503</td>\n",
       "      <td>5231</td>\n",
       "      <td>599</td>\n",
       "      <td>34</td>\n",
       "      <td>29</td>\n",
       "      <td>0</td>\n",
       "      <td>671398</td>\n",
       "    </tr>\n",
       "  </tbody>\n",
       "</table>\n",
       "</div>"
      ],
      "text/plain": [
       "            userId      postId language      tagId type tag_genre  \\\n",
       "671398  2753816537  5710906294    Hindi  S14689935    1    Sports   \n",
       "\n",
       "        posted_after_days  posts_till_date  post_index  engs  day_of_month  \\\n",
       "671398                503             5231         599    34            29   \n",
       "\n",
       "        day_of_week  index_from_start  \n",
       "671398            0            671398  "
      ]
     },
     "execution_count": 118,
     "metadata": {},
     "output_type": "execute_result"
    }
   ],
   "source": [
    "raw_data_1[raw_data_1[\"postId\"]=='5710906294']"
   ]
  },
  {
   "cell_type": "code",
   "execution_count": 17,
   "id": "a787d02a-5893-443f-b8cd-f149b235ca02",
   "metadata": {},
   "outputs": [
    {
     "data": {
      "text/plain": [
       "420176        600\n",
       "1069809909    600\n",
       "1100834508    600\n",
       "1083463883    600\n",
       "1083369579    600\n",
       "             ... \n",
       "317036504     600\n",
       "318441793     600\n",
       "318793979     600\n",
       "319349667     600\n",
       "2753816537    600\n",
       "Name: userId, Length: 1119, dtype: int64"
      ]
     },
     "execution_count": 17,
     "metadata": {},
     "output_type": "execute_result"
    }
   ],
   "source": [
    "raw_data_1.userId.value_counts()"
   ]
  },
  {
   "cell_type": "code",
   "execution_count": 18,
   "id": "3eee1c04-fd57-4347-8b62-0ce5cff7b384",
   "metadata": {},
   "outputs": [
    {
     "data": {
      "text/html": [
       "<div>\n",
       "<style scoped>\n",
       "    .dataframe tbody tr th:only-of-type {\n",
       "        vertical-align: middle;\n",
       "    }\n",
       "\n",
       "    .dataframe tbody tr th {\n",
       "        vertical-align: top;\n",
       "    }\n",
       "\n",
       "    .dataframe thead th {\n",
       "        text-align: right;\n",
       "    }\n",
       "</style>\n",
       "<table border=\"1\" class=\"dataframe\">\n",
       "  <thead>\n",
       "    <tr style=\"text-align: right;\">\n",
       "      <th></th>\n",
       "      <th>time_first</th>\n",
       "      <th>time_last</th>\n",
       "      <th>time_diff_to_next</th>\n",
       "      <th>index_start</th>\n",
       "      <th>time</th>\n",
       "      <th>count</th>\n",
       "      <th>group_id</th>\n",
       "      <th>index_end</th>\n",
       "      <th>sequence_length</th>\n",
       "    </tr>\n",
       "  </thead>\n",
       "  <tbody>\n",
       "    <tr>\n",
       "      <th>0</th>\n",
       "      <td>442200</td>\n",
       "      <td>442799</td>\n",
       "      <td>1</td>\n",
       "      <td>0</td>\n",
       "      <td>442200</td>\n",
       "      <td>600</td>\n",
       "      <td>0</td>\n",
       "      <td>51</td>\n",
       "      <td>52</td>\n",
       "    </tr>\n",
       "    <tr>\n",
       "      <th>1</th>\n",
       "      <td>442200</td>\n",
       "      <td>442799</td>\n",
       "      <td>1</td>\n",
       "      <td>1</td>\n",
       "      <td>442201</td>\n",
       "      <td>600</td>\n",
       "      <td>0</td>\n",
       "      <td>52</td>\n",
       "      <td>52</td>\n",
       "    </tr>\n",
       "    <tr>\n",
       "      <th>2</th>\n",
       "      <td>442200</td>\n",
       "      <td>442799</td>\n",
       "      <td>1</td>\n",
       "      <td>2</td>\n",
       "      <td>442202</td>\n",
       "      <td>600</td>\n",
       "      <td>0</td>\n",
       "      <td>53</td>\n",
       "      <td>52</td>\n",
       "    </tr>\n",
       "    <tr>\n",
       "      <th>3</th>\n",
       "      <td>442200</td>\n",
       "      <td>442799</td>\n",
       "      <td>1</td>\n",
       "      <td>3</td>\n",
       "      <td>442203</td>\n",
       "      <td>600</td>\n",
       "      <td>0</td>\n",
       "      <td>54</td>\n",
       "      <td>52</td>\n",
       "    </tr>\n",
       "    <tr>\n",
       "      <th>4</th>\n",
       "      <td>442200</td>\n",
       "      <td>442799</td>\n",
       "      <td>1</td>\n",
       "      <td>4</td>\n",
       "      <td>442204</td>\n",
       "      <td>600</td>\n",
       "      <td>0</td>\n",
       "      <td>55</td>\n",
       "      <td>52</td>\n",
       "    </tr>\n",
       "    <tr>\n",
       "      <th>...</th>\n",
       "      <td>...</td>\n",
       "      <td>...</td>\n",
       "      <td>...</td>\n",
       "      <td>...</td>\n",
       "      <td>...</td>\n",
       "      <td>...</td>\n",
       "      <td>...</td>\n",
       "      <td>...</td>\n",
       "      <td>...</td>\n",
       "    </tr>\n",
       "    <tr>\n",
       "      <th>700487</th>\n",
       "      <td>441600</td>\n",
       "      <td>442199</td>\n",
       "      <td>1</td>\n",
       "      <td>670798</td>\n",
       "      <td>441600</td>\n",
       "      <td>600</td>\n",
       "      <td>1118</td>\n",
       "      <td>670844</td>\n",
       "      <td>47</td>\n",
       "    </tr>\n",
       "    <tr>\n",
       "      <th>700488</th>\n",
       "      <td>441600</td>\n",
       "      <td>442199</td>\n",
       "      <td>1</td>\n",
       "      <td>670798</td>\n",
       "      <td>441600</td>\n",
       "      <td>600</td>\n",
       "      <td>1118</td>\n",
       "      <td>670845</td>\n",
       "      <td>48</td>\n",
       "    </tr>\n",
       "    <tr>\n",
       "      <th>700489</th>\n",
       "      <td>441600</td>\n",
       "      <td>442199</td>\n",
       "      <td>1</td>\n",
       "      <td>670798</td>\n",
       "      <td>441600</td>\n",
       "      <td>600</td>\n",
       "      <td>1118</td>\n",
       "      <td>670846</td>\n",
       "      <td>49</td>\n",
       "    </tr>\n",
       "    <tr>\n",
       "      <th>700490</th>\n",
       "      <td>441600</td>\n",
       "      <td>442199</td>\n",
       "      <td>1</td>\n",
       "      <td>670798</td>\n",
       "      <td>441600</td>\n",
       "      <td>600</td>\n",
       "      <td>1118</td>\n",
       "      <td>670847</td>\n",
       "      <td>50</td>\n",
       "    </tr>\n",
       "    <tr>\n",
       "      <th>700491</th>\n",
       "      <td>441600</td>\n",
       "      <td>442199</td>\n",
       "      <td>1</td>\n",
       "      <td>670798</td>\n",
       "      <td>441600</td>\n",
       "      <td>600</td>\n",
       "      <td>1118</td>\n",
       "      <td>670848</td>\n",
       "      <td>51</td>\n",
       "    </tr>\n",
       "  </tbody>\n",
       "</table>\n",
       "<p>672517 rows × 9 columns</p>\n",
       "</div>"
      ],
      "text/plain": [
       "        time_first  time_last  time_diff_to_next  index_start    time  count  \\\n",
       "0           442200     442799                  1            0  442200    600   \n",
       "1           442200     442799                  1            1  442201    600   \n",
       "2           442200     442799                  1            2  442202    600   \n",
       "3           442200     442799                  1            3  442203    600   \n",
       "4           442200     442799                  1            4  442204    600   \n",
       "...            ...        ...                ...          ...     ...    ...   \n",
       "700487      441600     442199                  1       670798  441600    600   \n",
       "700488      441600     442199                  1       670798  441600    600   \n",
       "700489      441600     442199                  1       670798  441600    600   \n",
       "700490      441600     442199                  1       670798  441600    600   \n",
       "700491      441600     442199                  1       670798  441600    600   \n",
       "\n",
       "        group_id  index_end  sequence_length  \n",
       "0              0         51               52  \n",
       "1              0         52               52  \n",
       "2              0         53               52  \n",
       "3              0         54               52  \n",
       "4              0         55               52  \n",
       "...          ...        ...              ...  \n",
       "700487      1118     670844               47  \n",
       "700488      1118     670845               48  \n",
       "700489      1118     670846               49  \n",
       "700490      1118     670847               50  \n",
       "700491      1118     670848               51  \n",
       "\n",
       "[672517 rows x 9 columns]"
      ]
     },
     "execution_count": 18,
     "metadata": {},
     "output_type": "execute_result"
    }
   ],
   "source": [
    "training.index"
   ]
  },
  {
   "cell_type": "code",
   "execution_count": 19,
   "id": "f612cc45-dd6d-4981-8156-520f7efbd64f",
   "metadata": {},
   "outputs": [
    {
     "data": {
      "text/html": [
       "<div>\n",
       "<style scoped>\n",
       "    .dataframe tbody tr th:only-of-type {\n",
       "        vertical-align: middle;\n",
       "    }\n",
       "\n",
       "    .dataframe tbody tr th {\n",
       "        vertical-align: top;\n",
       "    }\n",
       "\n",
       "    .dataframe thead th {\n",
       "        text-align: right;\n",
       "    }\n",
       "</style>\n",
       "<table border=\"1\" class=\"dataframe\">\n",
       "  <thead>\n",
       "    <tr style=\"text-align: right;\">\n",
       "      <th></th>\n",
       "      <th>time_first</th>\n",
       "      <th>time_last</th>\n",
       "      <th>time_diff_to_next</th>\n",
       "      <th>index_start</th>\n",
       "      <th>time</th>\n",
       "      <th>count</th>\n",
       "      <th>group_id</th>\n",
       "      <th>index_end</th>\n",
       "      <th>sequence_length</th>\n",
       "    </tr>\n",
       "  </thead>\n",
       "  <tbody>\n",
       "    <tr>\n",
       "      <th>548</th>\n",
       "      <td>442200</td>\n",
       "      <td>442799</td>\n",
       "      <td>1</td>\n",
       "      <td>548</td>\n",
       "      <td>442748</td>\n",
       "      <td>600</td>\n",
       "      <td>0</td>\n",
       "      <td>599</td>\n",
       "      <td>52</td>\n",
       "    </tr>\n",
       "    <tr>\n",
       "      <th>1148</th>\n",
       "      <td>131400</td>\n",
       "      <td>131999</td>\n",
       "      <td>1</td>\n",
       "      <td>1148</td>\n",
       "      <td>131948</td>\n",
       "      <td>600</td>\n",
       "      <td>1</td>\n",
       "      <td>1199</td>\n",
       "      <td>52</td>\n",
       "    </tr>\n",
       "    <tr>\n",
       "      <th>1748</th>\n",
       "      <td>132000</td>\n",
       "      <td>132599</td>\n",
       "      <td>1</td>\n",
       "      <td>1748</td>\n",
       "      <td>132548</td>\n",
       "      <td>600</td>\n",
       "      <td>2</td>\n",
       "      <td>1799</td>\n",
       "      <td>52</td>\n",
       "    </tr>\n",
       "    <tr>\n",
       "      <th>2348</th>\n",
       "      <td>442800</td>\n",
       "      <td>443399</td>\n",
       "      <td>1</td>\n",
       "      <td>2348</td>\n",
       "      <td>443348</td>\n",
       "      <td>600</td>\n",
       "      <td>3</td>\n",
       "      <td>2399</td>\n",
       "      <td>52</td>\n",
       "    </tr>\n",
       "    <tr>\n",
       "      <th>2948</th>\n",
       "      <td>132600</td>\n",
       "      <td>133199</td>\n",
       "      <td>1</td>\n",
       "      <td>2948</td>\n",
       "      <td>133148</td>\n",
       "      <td>600</td>\n",
       "      <td>4</td>\n",
       "      <td>2999</td>\n",
       "      <td>52</td>\n",
       "    </tr>\n",
       "    <tr>\n",
       "      <th>...</th>\n",
       "      <td>...</td>\n",
       "      <td>...</td>\n",
       "      <td>...</td>\n",
       "      <td>...</td>\n",
       "      <td>...</td>\n",
       "      <td>...</td>\n",
       "      <td>...</td>\n",
       "      <td>...</td>\n",
       "      <td>...</td>\n",
       "    </tr>\n",
       "    <tr>\n",
       "      <th>668948</th>\n",
       "      <td>439800</td>\n",
       "      <td>440399</td>\n",
       "      <td>1</td>\n",
       "      <td>668948</td>\n",
       "      <td>440348</td>\n",
       "      <td>600</td>\n",
       "      <td>1114</td>\n",
       "      <td>668999</td>\n",
       "      <td>52</td>\n",
       "    </tr>\n",
       "    <tr>\n",
       "      <th>669548</th>\n",
       "      <td>440400</td>\n",
       "      <td>440999</td>\n",
       "      <td>1</td>\n",
       "      <td>669548</td>\n",
       "      <td>440948</td>\n",
       "      <td>600</td>\n",
       "      <td>1115</td>\n",
       "      <td>669599</td>\n",
       "      <td>52</td>\n",
       "    </tr>\n",
       "    <tr>\n",
       "      <th>670148</th>\n",
       "      <td>130800</td>\n",
       "      <td>131399</td>\n",
       "      <td>1</td>\n",
       "      <td>670148</td>\n",
       "      <td>131348</td>\n",
       "      <td>600</td>\n",
       "      <td>1116</td>\n",
       "      <td>670199</td>\n",
       "      <td>52</td>\n",
       "    </tr>\n",
       "    <tr>\n",
       "      <th>670748</th>\n",
       "      <td>441000</td>\n",
       "      <td>441599</td>\n",
       "      <td>1</td>\n",
       "      <td>670748</td>\n",
       "      <td>441548</td>\n",
       "      <td>600</td>\n",
       "      <td>1117</td>\n",
       "      <td>670799</td>\n",
       "      <td>52</td>\n",
       "    </tr>\n",
       "    <tr>\n",
       "      <th>671348</th>\n",
       "      <td>441600</td>\n",
       "      <td>442199</td>\n",
       "      <td>1</td>\n",
       "      <td>671348</td>\n",
       "      <td>442148</td>\n",
       "      <td>600</td>\n",
       "      <td>1118</td>\n",
       "      <td>671399</td>\n",
       "      <td>52</td>\n",
       "    </tr>\n",
       "  </tbody>\n",
       "</table>\n",
       "<p>1119 rows × 9 columns</p>\n",
       "</div>"
      ],
      "text/plain": [
       "        time_first  time_last  time_diff_to_next  index_start    time  count  \\\n",
       "548         442200     442799                  1          548  442748    600   \n",
       "1148        131400     131999                  1         1148  131948    600   \n",
       "1748        132000     132599                  1         1748  132548    600   \n",
       "2348        442800     443399                  1         2348  443348    600   \n",
       "2948        132600     133199                  1         2948  133148    600   \n",
       "...            ...        ...                ...          ...     ...    ...   \n",
       "668948      439800     440399                  1       668948  440348    600   \n",
       "669548      440400     440999                  1       669548  440948    600   \n",
       "670148      130800     131399                  1       670148  131348    600   \n",
       "670748      441000     441599                  1       670748  441548    600   \n",
       "671348      441600     442199                  1       671348  442148    600   \n",
       "\n",
       "        group_id  index_end  sequence_length  \n",
       "548            0        599               52  \n",
       "1148           1       1199               52  \n",
       "1748           2       1799               52  \n",
       "2348           3       2399               52  \n",
       "2948           4       2999               52  \n",
       "...          ...        ...              ...  \n",
       "668948      1114     668999               52  \n",
       "669548      1115     669599               52  \n",
       "670148      1116     670199               52  \n",
       "670748      1117     670799               52  \n",
       "671348      1118     671399               52  \n",
       "\n",
       "[1119 rows x 9 columns]"
      ]
     },
     "execution_count": 19,
     "metadata": {},
     "output_type": "execute_result"
    }
   ],
   "source": [
    "validation.index"
   ]
  },
  {
   "cell_type": "markdown",
   "id": "8f01250c-edac-415c-bec0-d05f23f4fe72",
   "metadata": {},
   "source": [
    "#### Baseline model"
   ]
  },
  {
   "cell_type": "code",
   "execution_count": 19,
   "id": "fd4c5fee-3d49-4439-b017-18340994066f",
   "metadata": {},
   "outputs": [
    {
     "name": "stderr",
     "output_type": "stream",
     "text": [
      "/opt/conda/lib/python3.7/site-packages/pytorch_lightning/utilities/parsing.py:263: UserWarning: Attribute 'loss' is an instance of `nn.Module` and is already saved during checkpointing. It is recommended to ignore them using `self.save_hyperparameters(ignore=['loss'])`.\n",
      "  f\"Attribute {k!r} is an instance of `nn.Module` and is already saved during checkpointing.\"\n",
      "/opt/conda/lib/python3.7/site-packages/pytorch_lightning/utilities/parsing.py:263: UserWarning: Attribute 'logging_metrics' is an instance of `nn.Module` and is already saved during checkpointing. It is recommended to ignore them using `self.save_hyperparameters(ignore=['logging_metrics'])`.\n",
      "  f\"Attribute {k!r} is an instance of `nn.Module` and is already saved during checkpointing.\"\n"
     ]
    },
    {
     "data": {
      "text/plain": [
       "263.15863037109375"
      ]
     },
     "execution_count": 19,
     "metadata": {},
     "output_type": "execute_result"
    }
   ],
   "source": [
    "actuals = torch.cat([y for x, (y, weight) in iter(val_dataloader)])\n",
    "baseline_predictions = Baseline().predict(val_dataloader)\n",
    "(actuals - baseline_predictions).abs().mean().item()"
   ]
  },
  {
   "cell_type": "markdown",
   "id": "545ce943-6b3c-4728-afff-3c871badbb9b",
   "metadata": {},
   "source": [
    "#### build TFT model"
   ]
  },
  {
   "cell_type": "code",
   "execution_count": 34,
   "id": "cc9ad5ed-e220-4666-b272-de5dffa84497",
   "metadata": {},
   "outputs": [
    {
     "name": "stderr",
     "output_type": "stream",
     "text": [
      "GPU available: True (cuda), used: True\n",
      "TPU available: False, using: 0 TPU cores\n",
      "IPU available: False, using: 0 IPUs\n",
      "HPU available: False, using: 0 HPUs\n"
     ]
    }
   ],
   "source": [
    "early_stop_callback = EarlyStopping(monitor=\"val_loss\", min_delta=1e-4, patience=5, verbose=True, mode=\"min\")\n",
    "lr_logger = LearningRateMonitor()  \n",
    "logger = TensorBoardLogger(\"lightning_logs\")  \n",
    "\n",
    "trainer = pl.Trainer(\n",
    "    max_epochs=10,\n",
    "    accelerator='gpu', \n",
    "    devices=1,\n",
    "    enable_model_summary=True,\n",
    "    gradient_clip_val=0.1,\n",
    "    callbacks=[lr_logger, early_stop_callback],\n",
    "    logger=logger,\n",
    "    # default_root_dir=\"lightning_logs/lightning_logs/version_4/checkpoints/\"\n",
    ")\n",
    "\n",
    "\n",
    "tft = TemporalFusionTransformer.from_dataset(\n",
    "    training,\n",
    "    learning_rate=0.03,\n",
    "    hidden_size=16,\n",
    "    attention_head_size=4,\n",
    "    dropout=0.1,\n",
    "    hidden_continuous_size=8,\n",
    "    output_size=7,  # there are 7 quantiles by default: [0.02, 0.1, 0.25, 0.5, 0.75, 0.9, 0.98]\n",
    "    loss=QuantileLoss(),\n",
    "    log_interval=10, \n",
    "    reduce_on_plateau_patience=4\n",
    ")"
   ]
  },
  {
   "cell_type": "code",
   "execution_count": 31,
   "id": "1a9e3a58-0fee-4d64-bde1-0172b4dd1de7",
   "metadata": {},
   "outputs": [
    {
     "name": "stdout",
     "output_type": "stream",
     "text": [
      "Number of parameters in network: 289.3k\n"
     ]
    }
   ],
   "source": [
    "print(f\"Number of parameters in network: {tft.size()/1e3:.1f}k\")"
   ]
  },
  {
   "cell_type": "code",
   "execution_count": 35,
   "id": "9b9ff4be-4b80-4317-be8f-e3d8092abec5",
   "metadata": {},
   "outputs": [],
   "source": [
    "#### load saved model from checkpoint\n",
    "best_model_path='lightning_logs/lightning_logs/version_4/checkpoints/epoch=1-step=21016.ckpt'\n",
    "best_tft = TemporalFusionTransformer.load_from_checkpoint(best_model_path)\n",
    "# trainer = pl.Trainer(\n",
    "#     max_epochs=11,\n",
    "#     accelerator='gpu', \n",
    "#     devices=1,\n",
    "#     enable_model_summary=True,\n",
    "#     gradient_clip_val=0.1,\n",
    "#     callbacks=[lr_logger, early_stop_callback],\n",
    "#     logger=logger,\n",
    "#     resume_from_checkpoint=best_model_path\n",
    "# )"
   ]
  },
  {
   "cell_type": "code",
   "execution_count": 32,
   "id": "870df2e0-b153-4577-b7c0-ab7fecee3076",
   "metadata": {},
   "outputs": [],
   "source": [
    "# best_tft.hparams"
   ]
  },
  {
   "cell_type": "code",
   "execution_count": null,
   "id": "ef62c482-ca5b-4681-a038-2e01c4a660b3",
   "metadata": {},
   "outputs": [],
   "source": []
  },
  {
   "cell_type": "code",
   "execution_count": null,
   "id": "cd60d5d9-3108-483e-afc1-2fae5c141995",
   "metadata": {},
   "outputs": [
    {
     "name": "stderr",
     "output_type": "stream",
     "text": [
      "LOCAL_RANK: 0 - CUDA_VISIBLE_DEVICES: [0]\n",
      "\n",
      "   | Name                               | Type                            | Params\n",
      "----------------------------------------------------------------------------------------\n",
      "0  | loss                               | QuantileLoss                    | 0     \n",
      "1  | logging_metrics                    | ModuleList                      | 0     \n",
      "2  | input_embeddings                   | MultiEmbedding                  | 265 K \n",
      "3  | prescalers                         | ModuleDict                      | 128   \n",
      "4  | static_variable_selection          | VariableSelectionNetwork        | 1.7 K \n",
      "5  | encoder_variable_selection         | VariableSelectionNetwork        | 4.3 K \n",
      "6  | decoder_variable_selection         | VariableSelectionNetwork        | 3.6 K \n",
      "7  | static_context_variable_selection  | GatedResidualNetwork            | 1.1 K \n",
      "8  | static_context_initial_hidden_lstm | GatedResidualNetwork            | 1.1 K \n",
      "9  | static_context_initial_cell_lstm   | GatedResidualNetwork            | 1.1 K \n",
      "10 | static_context_enrichment          | GatedResidualNetwork            | 1.1 K \n",
      "11 | lstm_encoder                       | LSTM                            | 2.2 K \n",
      "12 | lstm_decoder                       | LSTM                            | 2.2 K \n",
      "13 | post_lstm_gate_encoder             | GatedLinearUnit                 | 544   \n",
      "14 | post_lstm_add_norm_encoder         | AddNorm                         | 32    \n",
      "15 | static_enrichment                  | GatedResidualNetwork            | 1.4 K \n",
      "16 | multihead_attn                     | InterpretableMultiHeadAttention | 676   \n",
      "17 | post_attn_gate_norm                | GateAddNorm                     | 576   \n",
      "18 | pos_wise_ff                        | GatedResidualNetwork            | 1.1 K \n",
      "19 | pre_output_gate_norm               | GateAddNorm                     | 576   \n",
      "20 | output_layer                       | Linear                          | 119   \n",
      "----------------------------------------------------------------------------------------\n",
      "289 K     Trainable params\n",
      "0         Non-trainable params\n",
      "289 K     Total params\n",
      "1.157     Total estimated model params size (MB)\n"
     ]
    },
    {
     "data": {
      "application/vnd.jupyter.widget-view+json": {
       "model_id": "",
       "version_major": 2,
       "version_minor": 0
      },
      "text/plain": [
       "Sanity Checking: 0it [00:00, ?it/s]"
      ]
     },
     "metadata": {},
     "output_type": "display_data"
    },
    {
     "name": "stderr",
     "output_type": "stream",
     "text": [
      "/opt/conda/lib/python3.7/site-packages/pytorch_lightning/trainer/connectors/data_connector.py:229: PossibleUserWarning: The dataloader, val_dataloader 0, does not have many workers which may be a bottleneck. Consider increasing the value of the `num_workers` argument` (try 4 which is the number of cpus on this machine) in the `DataLoader` init to improve performance.\n",
      "  category=PossibleUserWarning,\n",
      "/opt/conda/lib/python3.7/site-packages/pytorch_lightning/trainer/connectors/data_connector.py:229: PossibleUserWarning: The dataloader, train_dataloader, does not have many workers which may be a bottleneck. Consider increasing the value of the `num_workers` argument` (try 4 which is the number of cpus on this machine) in the `DataLoader` init to improve performance.\n",
      "  category=PossibleUserWarning,\n"
     ]
    },
    {
     "data": {
      "application/vnd.jupyter.widget-view+json": {
       "model_id": "a4a26b7d12fa46f18f8c2cfade8bc744",
       "version_major": 2,
       "version_minor": 0
      },
      "text/plain": [
       "Training: 0it [00:00, ?it/s]"
      ]
     },
     "metadata": {},
     "output_type": "display_data"
    },
    {
     "data": {
      "application/vnd.jupyter.widget-view+json": {
       "model_id": "",
       "version_major": 2,
       "version_minor": 0
      },
      "text/plain": [
       "Validation: 0it [00:00, ?it/s]"
      ]
     },
     "metadata": {},
     "output_type": "display_data"
    },
    {
     "name": "stderr",
     "output_type": "stream",
     "text": [
      "Metric val_loss improved. New best score: 67.323\n"
     ]
    },
    {
     "data": {
      "application/vnd.jupyter.widget-view+json": {
       "model_id": "",
       "version_major": 2,
       "version_minor": 0
      },
      "text/plain": [
       "Validation: 0it [00:00, ?it/s]"
      ]
     },
     "metadata": {},
     "output_type": "display_data"
    }
   ],
   "source": [
    "# fit network\n",
    "trainer.fit(\n",
    "    best_tft,\n",
    "    train_dataloaders=train_dataloader,\n",
    "    val_dataloaders=val_dataloader,\n",
    "    # ckpt_path=best_model_path,\n",
    ")"
   ]
  },
  {
   "cell_type": "code",
   "execution_count": 30,
   "id": "01f1b1c9-e13c-40c1-b05a-2aadb5ea116b",
   "metadata": {},
   "outputs": [
    {
     "data": {
      "text/plain": [
       "'1.8.1'"
      ]
     },
     "execution_count": 30,
     "metadata": {},
     "output_type": "execute_result"
    }
   ],
   "source": [
    "pl.__version__"
   ]
  },
  {
   "cell_type": "code",
   "execution_count": 37,
   "id": "14038aff-02d4-4ded-bcaf-9b10032060c0",
   "metadata": {},
   "outputs": [
    {
     "name": "stdout",
     "output_type": "stream",
     "text": [
      "The tensorboard extension is already loaded. To reload it, use:\n",
      "  %reload_ext tensorboard\n"
     ]
    },
    {
     "data": {
      "text/html": [
       "\n",
       "      <iframe id=\"tensorboard-frame-3192d15f6f21f173\" width=\"100%\" height=\"800\" frameborder=\"0\">\n",
       "      </iframe>\n",
       "      <script>\n",
       "        (function() {\n",
       "          const frame = document.getElementById(\"tensorboard-frame-3192d15f6f21f173\");\n",
       "          const url = new URL(\"/proxy/6006/\", window.location);\n",
       "          const port = 0;\n",
       "          if (port) {\n",
       "            url.port = port;\n",
       "          }\n",
       "          frame.src = url;\n",
       "        })();\n",
       "      </script>\n",
       "    "
      ],
      "text/plain": [
       "<IPython.core.display.HTML object>"
      ]
     },
     "metadata": {},
     "output_type": "display_data"
    }
   ],
   "source": [
    "# Start tensorboard\n",
    "%load_ext tensorboard\n",
    "%tensorboard --logdir lightning_logs"
   ]
  },
  {
   "cell_type": "code",
   "execution_count": null,
   "id": "36b84044-c1d0-4045-ad2a-3e78e54bb0cc",
   "metadata": {},
   "outputs": [],
   "source": []
  },
  {
   "cell_type": "code",
   "execution_count": null,
   "id": "c34f0d24-d87b-4c10-9a0d-ec13efa160f9",
   "metadata": {},
   "outputs": [],
   "source": []
  },
  {
   "cell_type": "code",
   "execution_count": null,
   "id": "69c50758-8b4e-4af1-a835-7acd3e170f08",
   "metadata": {},
   "outputs": [],
   "source": []
  }
 ],
 "metadata": {
  "environment": {
   "kernel": "python3",
   "name": "common-cu110.m100",
   "type": "gcloud",
   "uri": "gcr.io/deeplearning-platform-release/base-cu110:m100"
  },
  "kernelspec": {
   "display_name": "Python 3",
   "language": "python",
   "name": "python3"
  },
  "language_info": {
   "codemirror_mode": {
    "name": "ipython",
    "version": 3
   },
   "file_extension": ".py",
   "mimetype": "text/x-python",
   "name": "python",
   "nbconvert_exporter": "python",
   "pygments_lexer": "ipython3",
   "version": "3.7.12"
  }
 },
 "nbformat": 4,
 "nbformat_minor": 5
}
